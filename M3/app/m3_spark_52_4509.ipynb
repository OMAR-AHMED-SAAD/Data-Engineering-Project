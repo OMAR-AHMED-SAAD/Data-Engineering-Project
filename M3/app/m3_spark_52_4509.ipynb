{
 "cells": [
  {
   "cell_type": "markdown",
   "metadata": {},
   "source": [
    "### A notebook for the Data Engineering Course Project - Milestone 3"
   ]
  },
  {
   "cell_type": "markdown",
   "metadata": {},
   "source": [
    "#### In this notebook, we will be experimenting with spark to manipulate data and perform some basic operations on it."
   ]
  },
  {
   "cell_type": "markdown",
   "metadata": {},
   "source": [
    "##### Imports and setup"
   ]
  },
  {
   "cell_type": "code",
   "execution_count": 1,
   "metadata": {},
   "outputs": [],
   "source": [
    "from pyspark.sql import functions as fn , SparkSession, Window, DataFrame, types\n",
    "from datetime import date,timedelta\n",
    "from random import uniform\n",
    "import psutil"
   ]
  },
  {
   "cell_type": "code",
   "execution_count": 2,
   "metadata": {},
   "outputs": [
    {
     "name": "stderr",
     "output_type": "stream",
     "text": [
      "24/11/22 00:36:40 WARN Utils: Your hostname, Omars-MacBook-Pro-4.local resolves to a loopback address: 127.0.0.1; using 192.168.107.154 instead (on interface en0)\n",
      "24/11/22 00:36:40 WARN Utils: Set SPARK_LOCAL_IP if you need to bind to another address\n",
      "Setting default log level to \"WARN\".\n",
      "To adjust logging level use sc.setLogLevel(newLevel). For SparkR, use setLogLevel(newLevel).\n",
      "24/11/22 00:36:41 WARN NativeCodeLoader: Unable to load native-hadoop library for your platform... using builtin-java classes where applicable\n",
      "24/11/22 00:36:41 WARN Utils: Service 'SparkUI' could not bind on port 4040. Attempting port 4041.\n"
     ]
    }
   ],
   "source": [
    "spark = SparkSession.builder.appName(\"Milestone3\").getOrCreate()\n",
    "sc = spark.sparkContext"
   ]
  },
  {
   "cell_type": "code",
   "execution_count": 3,
   "metadata": {},
   "outputs": [],
   "source": [
    "DATA_PATH = \"./data/fintech_data_17_52_4509.parquet\"\n",
    "CLEANED_DATA_PATH = \"./data/fintech_spark_52_4509.parquet\"\n",
    "LOOKUP_PATH = \"./data/lookup_spark_52_4509.parquet\""
   ]
  },
  {
   "cell_type": "markdown",
   "metadata": {},
   "source": [
    "- Create Lookup dataframe"
   ]
  },
  {
   "cell_type": "code",
   "execution_count": 4,
   "metadata": {},
   "outputs": [],
   "source": [
    "lookup_table = spark.createDataFrame([], schema=types.StructType([\n",
    "    types.StructField(\"Column\", types.StringType(), False),\n",
    "    types.StructField(\"Original\", types.StringType(), False),\n",
    "    types.StructField(\"Encoded\", types.StringType(), False),\n",
    "    types.StructField(\"Type\", types.StringType(), False)\n",
    "]))"
   ]
  },
  {
   "cell_type": "markdown",
   "metadata": {},
   "source": [
    "##### Part 1: Loading the data"
   ]
  },
  {
   "cell_type": "markdown",
   "metadata": {},
   "source": [
    "- Load the dataset"
   ]
  },
  {
   "cell_type": "code",
   "execution_count": 5,
   "metadata": {},
   "outputs": [
    {
     "name": "stderr",
     "output_type": "stream",
     "text": [
      "                                                                                \r"
     ]
    }
   ],
   "source": [
    "fintech_df = spark.read.parquet(DATA_PATH)"
   ]
  },
  {
   "cell_type": "markdown",
   "metadata": {},
   "source": [
    "- preview the first 20 rows of the data"
   ]
  },
  {
   "cell_type": "code",
   "execution_count": 6,
   "metadata": {},
   "outputs": [
    {
     "name": "stdout",
     "output_type": "stream",
     "text": [
      "+--------------------+--------------------+----------+--------------+----------+----------------+-------------------+--------+----------+-----------+-----------+-------+-----------+-----------+-----+-------------+----------+--------+-----+-----------------+----------+----------+------------------+--------------------+\n",
      "|         Customer Id|           Emp Title|Emp Length|Home Ownership|Annual Inc|Annual Inc Joint|Verification Status|Zip Code|Addr State|Avg Cur Bal|Tot Cur Bal|Loan Id|Loan Status|Loan Amount|State|Funded Amount|      Term|Int Rate|Grade|       Issue Date|Pymnt Plan|      Type|           Purpose|         Description|\n",
      "+--------------------+--------------------+----------+--------------+----------+----------------+-------------------+--------+----------+-----------+-----------+-------+-----------+-----------+-----+-------------+----------+--------+-----+-----------------+----------+----------+------------------+--------------------+\n",
      "|YiJaJVx4YTNceGZiS...|                NULL|      NULL|          RENT|   24000.0|            NULL|       Not Verified|   451xx|        OH|     1961.0|    19606.0| 108335|    Current|    10800.0|   OH|      10800.0| 36 months|  0.1601|   14|      18 May 2018|     false|Individual|       credit_card|Credit card refin...|\n",
      "|YidceGZhXHhhM3dce...|                 CEO|    1 year|          RENT|   75000.0|            NULL|       Not Verified|   926xx|        CA|     2804.0|     8411.0|  88675|    Current|    10000.0|   CA|      10000.0| 36 months|  0.0975|    6|    16 April 2016|     false|INDIVIDUAL|    small_business|            Business|\n",
      "|YidceDhmXHg4OExce...|                tech|   7 years|           OWN|   51000.0|            NULL|       Not Verified|   932xx|        CA|     1650.0|    26405.0|  89278| Fully Paid|    10000.0|   CA|      10000.0| 36 months|  0.1015|    8|     14 July 2014|     false|INDIVIDUAL|             other|               Other|\n",
      "|YidceGU5aFx4MWRce...|         Lead Pastor|  < 1 year|      MORTGAGE|   96000.0|            NULL|    Source Verified|   180xx|        PA|    64472.0|   322358.0| 188143|    Current|    20000.0|   PA|      20000.0| 36 months|  0.0608|    2|  18 January 2018|     false|Individual|  home_improvement|    Home improvement|\n",
      "|YidJXHhmMlx4ZTdce...|                NULL|      NULL|          RENT|   57000.0|            NULL|    Source Verified|   750xx|        TX|     3581.0|    68038.0| 215612| Fully Paid|    24000.0|   TX|      24000.0| 36 months|  0.0867|    6|  15 January 2015|     false|Individual|       credit_card|Credit card refin...|\n",
      "|YicuXHhiNlx4OGZce...|Business Banking ...|   5 years|      MORTGAGE|   35000.0|            NULL|       Not Verified|   577xx|        SD|     2076.0|    20755.0|  50601| Fully Paid|     6600.0|   SD|       6600.0| 36 months|  0.1049|   10|    17 April 2017|     false|Individual|       credit_card|Credit card refin...|\n",
      "|YidceGIyXHhhYUMjO...|             Teacher| 10+ years|      MORTGAGE|   66000.0|        165500.0|           Verified|   224xx|        VA|    35906.0|   502690.0|  80787|    Current|     9725.0|   VA|       9725.0| 36 months|  0.0756|    1| 18 November 2018|     false| Joint App|       credit_card|Credit card refin...|\n",
      "|YidceGQwXHhlNFx4Y...|    Customer Service|  < 1 year|          RENT|   25000.0|            NULL|           Verified|   371xx|        TN|     1499.0|     5997.0|  58403| Fully Paid|     7450.0|   TN|       7450.0| 36 months|  0.2499|   26|   14 August 2014|     false|INDIVIDUAL|debt_consolidation|  Debt consolidation|\n",
      "|Yid8XHhiY1x4MWN1X...|Membership Desk A...|   2 years|          RENT|   40000.0|            NULL|    Source Verified|   339xx|        FL|     2252.0|    18016.0| 199163|    Current|    20000.0|   FL|      20000.0| 60 months|  0.1447|   11|  18 October 2018|     false|Individual|debt_consolidation|  Debt consolidation|\n",
      "|YidceGJmXHhmMlx4Z...|              Owner | 10+ years|          RENT|   60000.0|            NULL|    Source Verified|   631xx|        MO|      426.0|     5538.0| 229249|Charged Off|    25000.0|   MO|      25000.0| 60 months|  0.1919|   22|15 September 2015|     false|Individual|  home_improvement|    Home improvement|\n",
      "|YidceDFlXHgxMFx4Z...| Sandie Borrows & co|   8 years|      MORTGAGE|   98000.0|            NULL|           Verified|   752xx|        TX|    30778.0|   369330.0| 261139|    Current|    35000.0|   TX|      35000.0| 60 months|  0.1972|   17|    13 April 2013|     false|INDIVIDUAL|debt_consolidation|Making one paymen...|\n",
      "|YidceDA3XHg5NVx4Z...|Deputy Division C...|   6 years|      MORTGAGE|  100200.0|            NULL|    Source Verified|   241xx|        VA|    33360.0|   333603.0| 137814| Fully Paid|    14000.0|   VA|      14000.0| 36 months|  0.0699|    1| 15 December 2015|     false|Individual|       credit_card|Credit card refin...|\n",
      "|YidGXHhmZVx4ZTlCW...|      Route Salesman| 10+ years|          RENT|   54000.0|            NULL|       Not Verified|   044xx|        ME|    13289.0|   119602.0| 217621|    Current|    24000.0|   ME|      24000.0| 60 months|  0.0975|    9|    16 March 2016|     false|INDIVIDUAL|debt_consolidation|  Debt consolidation|\n",
      "|YidPXHg4ZVx4Yzlce...|                NULL|      NULL|          RENT|   38000.0|            NULL|           Verified|   357xx|        AL|    23932.0|   191456.0| 107311|    Current|    10625.0|   AL|      10625.0| 36 months|  0.1524|   12|  19 October 2019|     false|Individual|debt_consolidation|  Debt consolidation|\n",
      "|YidceGY3XHhmN1x4M...|    Technical Leader| 10+ years|      MORTGAGE|  186000.0|            NULL|    Source Verified|   750xx|        TX|     4513.0|    40613.0| 219639|    Current|    24000.0|   TX|      24000.0| 60 months|  0.1614|   14| 19 February 2019|     false|Individual|    major_purchase|      Major purchase|\n",
      "|YichXHhhYlx4OTJce...|     project manager|   2 years|      MORTGAGE|  116500.0|            NULL|           Verified|   300xx|        GA|    17524.0|   175238.0| 235234| Fully Paid|    28000.0|   GA|      28000.0| 36 months|  0.0762|    5| 13 December 2013|     false|INDIVIDUAL|       credit_card|Credit card refin...|\n",
      "|YidceGIzXHhkZHJce...|           Plasterer|   5 years|           OWN|  192000.0|            NULL|    Source Verified|   114xx|        NY|    19200.0|   287998.0| 235981|    Current|    28000.0|   NY|      28000.0| 36 months|  0.1524|   13|   19 August 2019|     false|Individual|  home_improvement|    Home improvement|\n",
      "|YidceDk2XHhkYmtce...|           Associate|   8 years|          RENT|   21800.0|            NULL|           Verified|   460xx|        IN|     3499.0|    13997.0|  24873|    Current|     5000.0|   IN|       5000.0| 36 months|   0.124|    7|    19 April 2019|     false|Individual|debt_consolidation|  Debt consolidation|\n",
      "|YidZM3tFXHgxNUBce...|                NULL|      NULL|          RENT|   46000.0|            NULL|           Verified|   346xx|        FL|     4171.0|    25027.0|  49502|    Current|     6500.0|   FL|       6500.0| 36 months|  0.0756|    2|  19 October 2019|     false|Individual|             other|               Other|\n",
      "|YidceGFlXHgxNVx4Y...|Victim Services T...| 10+ years|          RENT|   65000.0|            NULL|    Source Verified|   925xx|        CA|     3279.0|    68853.0|   2527|    Current|     1500.0|   CA|       1500.0| 36 months|    NULL|   14| 17 November 2017|     false|Individual|             other|               Other|\n",
      "+--------------------+--------------------+----------+--------------+----------+----------------+-------------------+--------+----------+-----------+-----------+-------+-----------+-----------+-----+-------------+----------+--------+-----+-----------------+----------+----------+------------------+--------------------+\n",
      "only showing top 20 rows\n",
      "\n"
     ]
    }
   ],
   "source": [
    "fintech_df.show(20)"
   ]
  },
  {
   "cell_type": "markdown",
   "metadata": {},
   "source": [
    "- Display the number of partitions the data is split into"
   ]
  },
  {
   "cell_type": "code",
   "execution_count": 7,
   "metadata": {},
   "outputs": [
    {
     "name": "stdout",
     "output_type": "stream",
     "text": [
      "Number of partitions: 1\n"
     ]
    }
   ],
   "source": [
    "print(f\"Number of partitions: {fintech_df.rdd.getNumPartitions()}\")"
   ]
  },
  {
   "cell_type": "markdown",
   "metadata": {},
   "source": [
    "- Change partitioning to match the number of cores in the machine"
   ]
  },
  {
   "cell_type": "code",
   "execution_count": 8,
   "metadata": {},
   "outputs": [
    {
     "name": "stdout",
     "output_type": "stream",
     "text": [
      "Logical cores: 8\n",
      "Physical cores: 8\n"
     ]
    }
   ],
   "source": [
    "logical_cores = psutil.cpu_count(logical=True)  \n",
    "physical_cores = psutil.cpu_count(logical=False)\n",
    "\n",
    "print(f\"Logical cores: {logical_cores}\")\n",
    "print(f\"Physical cores: {physical_cores}\")"
   ]
  },
  {
   "cell_type": "markdown",
   "metadata": {},
   "source": [
    "> NB: Apple silicon ships number of logical cores matches the number of physical cores.\n",
    "<br>\n",
    "<br>\n",
    "Explanation : After some digging i found that hyperthreading is actually a flaw that intel turned into a marketing item quoted by the random guy on some internet forum i found so basically due to the higher complexity of the ISA of the x86 architecture, the CPU has to do more complex decoding so having multiple threads on the same core would help in keeping the CPU busy while waiting for the data to be fetched from the memory. Which is not the case with ARM architecture which is simpler and more efficient. So, although hyperthreading can still be added the cpu is able to keep itself(mainly ALU units) busy without it."
   ]
  },
  {
   "cell_type": "code",
   "execution_count": 9,
   "metadata": {},
   "outputs": [
    {
     "name": "stdout",
     "output_type": "stream",
     "text": [
      "Number of partitions after repartition: 8\n"
     ]
    }
   ],
   "source": [
    "fintech_df = fintech_df.repartition(logical_cores)\n",
    "\n",
    "print(f\"Number of partitions after repartition: {fintech_df.rdd.getNumPartitions()}\")"
   ]
  },
  {
   "cell_type": "markdown",
   "metadata": {},
   "source": [
    "##### Part 2: Cleaning the data"
   ]
  },
  {
   "cell_type": "markdown",
   "metadata": {},
   "source": [
    "- Rename the columns"
   ]
  },
  {
   "cell_type": "code",
   "execution_count": 10,
   "metadata": {},
   "outputs": [
    {
     "data": {
      "text/plain": [
       "['customer_id',\n",
       " 'emp_title',\n",
       " 'emp_length',\n",
       " 'home_ownership',\n",
       " 'annual_inc',\n",
       " 'annual_inc_joint',\n",
       " 'verification_status',\n",
       " 'zip_code',\n",
       " 'addr_state',\n",
       " 'avg_cur_bal',\n",
       " 'tot_cur_bal',\n",
       " 'loan_id',\n",
       " 'loan_status',\n",
       " 'loan_amount',\n",
       " 'state',\n",
       " 'funded_amount',\n",
       " 'term',\n",
       " 'int_rate',\n",
       " 'grade',\n",
       " 'issue_date',\n",
       " 'pymnt_plan',\n",
       " 'type',\n",
       " 'purpose',\n",
       " 'description']"
      ]
     },
     "execution_count": 10,
     "metadata": {},
     "output_type": "execute_result"
    }
   ],
   "source": [
    "fintech_df = fintech_df.toDF(*[c.lower().replace(\" \", \"_\") for c in fintech_df.columns])\n",
    "\n",
    "fintech_df.schema.names\n"
   ]
  },
  {
   "cell_type": "markdown",
   "metadata": {},
   "source": [
    "- Detect Missing Values"
   ]
  },
  {
   "cell_type": "code",
   "execution_count": 11,
   "metadata": {},
   "outputs": [],
   "source": [
    "def missing_values(df: DataFrame) -> dict[str, float]:\n",
    "    missing = {}\n",
    "    total_rows = df.count() \n",
    "    for col in df.columns:\n",
    "        missing_count = df.filter(fn.col(col).isNull()).count()\n",
    "        missing_percentage = missing_count / total_rows * 100\n",
    "        if missing_percentage > 0:\n",
    "            missing[col] = missing_percentage\n",
    "    missing = dict(sorted(missing.items(), key=lambda item: item[1], reverse=True))\n",
    "    return missing"
   ]
  },
  {
   "cell_type": "code",
   "execution_count": 12,
   "metadata": {},
   "outputs": [
    {
     "data": {
      "text/plain": [
       "{'annual_inc_joint': 92.89678135405104,\n",
       " 'emp_title': 8.812430632630411,\n",
       " 'emp_length': 7.081021087680354,\n",
       " 'int_rate': 4.62819089900111,\n",
       " 'description': 0.8657047724750279}"
      ]
     },
     "execution_count": 12,
     "metadata": {},
     "output_type": "execute_result"
    }
   ],
   "source": [
    "missing = missing_values(fintech_df)\n",
    "missing"
   ]
  },
  {
   "cell_type": "markdown",
   "metadata": {},
   "source": [
    "- Handle Missing Values"
   ]
  },
  {
   "cell_type": "code",
   "execution_count": 13,
   "metadata": {},
   "outputs": [
    {
     "name": "stdout",
     "output_type": "stream",
     "text": [
      "annual_inc_joint: DoubleType()\n",
      "emp_title: StringType()\n",
      "emp_length: StringType()\n",
      "int_rate: DoubleType()\n",
      "description: StringType()\n"
     ]
    }
   ],
   "source": [
    "for col in missing.keys():\n",
    "    print(f\"{col}: {fintech_df.schema[col].dataType}\")\n"
   ]
  },
  {
   "cell_type": "code",
   "execution_count": 14,
   "metadata": {},
   "outputs": [],
   "source": [
    "def fill_missing(df: DataFrame, missing: dict[str, float]) -> DataFrame:\n",
    "    mode_df = df.dropna()\n",
    "    for col in missing.keys():\n",
    "        if mode_df.schema[col].dataType == types.StringType():\n",
    "            mode = mode_df.groupBy(col).count().orderBy(fn.desc(\"count\")).first()[col]\n",
    "            print(f\"Mode for column {col} is {mode} and filled missing values with it\")\n",
    "            df = df.fillna(mode, subset=[col])\n",
    "        else:\n",
    "            df = df.fillna(0, subset=[col])\n",
    "            print(f\"Filled missing values in column {col} with 0\")\n",
    "    return df"
   ]
  },
  {
   "cell_type": "code",
   "execution_count": 15,
   "metadata": {},
   "outputs": [],
   "source": [
    "def get_missing_count(df: DataFrame, missing_columns: list[str]) -> DataFrame:\n",
    "    num_missing = 0\n",
    "    for col in missing_columns:\n",
    "        num_missing += df.filter(fn.col(col).isNull()).count()\n",
    "    return num_missing"
   ]
  },
  {
   "cell_type": "code",
   "execution_count": 16,
   "metadata": {},
   "outputs": [
    {
     "data": {
      "text/plain": [
       "30891"
      ]
     },
     "execution_count": 16,
     "metadata": {},
     "output_type": "execute_result"
    }
   ],
   "source": [
    "get_missing_count(fintech_df, missing.keys())"
   ]
  },
  {
   "cell_type": "code",
   "execution_count": 17,
   "metadata": {},
   "outputs": [
    {
     "name": "stdout",
     "output_type": "stream",
     "text": [
      "Filled missing values in column annual_inc_joint with 0\n",
      "Mode for column emp_title is Teacher and filled missing values with it\n",
      "Mode for column emp_length is 10+ years and filled missing values with it\n",
      "Filled missing values in column int_rate with 0\n",
      "Mode for column description is Debt consolidation and filled missing values with it\n"
     ]
    }
   ],
   "source": [
    "fintech_df = fill_missing(fintech_df, missing)"
   ]
  },
  {
   "cell_type": "markdown",
   "metadata": {},
   "source": [
    "- Check the missing values have been handled"
   ]
  },
  {
   "cell_type": "code",
   "execution_count": 18,
   "metadata": {},
   "outputs": [
    {
     "data": {
      "text/plain": [
       "0"
      ]
     },
     "execution_count": 18,
     "metadata": {},
     "output_type": "execute_result"
    }
   ],
   "source": [
    "get_missing_count(fintech_df, missing.keys())"
   ]
  },
  {
   "cell_type": "markdown",
   "metadata": {},
   "source": [
    "##### Part 3: Encoding the data"
   ]
  },
  {
   "cell_type": "markdown",
   "metadata": {},
   "source": [
    "- Change `emp_length` to numerical"
   ]
  },
  {
   "cell_type": "code",
   "execution_count": 19,
   "metadata": {},
   "outputs": [
    {
     "name": "stdout",
     "output_type": "stream",
     "text": [
      "+----------+\n",
      "|emp_length|\n",
      "+----------+\n",
      "|   5 years|\n",
      "|   9 years|\n",
      "|    1 year|\n",
      "|   2 years|\n",
      "|   7 years|\n",
      "|   8 years|\n",
      "|   4 years|\n",
      "|   6 years|\n",
      "|   3 years|\n",
      "| 10+ years|\n",
      "|  < 1 year|\n",
      "+----------+\n",
      "\n"
     ]
    }
   ],
   "source": [
    "fintech_df.select(\"emp_length\").distinct().show()"
   ]
  },
  {
   "cell_type": "markdown",
   "metadata": {},
   "source": [
    "replace years and year with empty string , replace < 1 with 0.5 and 10+ with 11 and convert to float"
   ]
  },
  {
   "cell_type": "code",
   "execution_count": 20,
   "metadata": {},
   "outputs": [
    {
     "name": "stdout",
     "output_type": "stream",
     "text": [
      "+----------+\n",
      "|emp_length|\n",
      "+----------+\n",
      "|       9.0|\n",
      "|       5.0|\n",
      "|      11.0|\n",
      "|       7.0|\n",
      "|       2.0|\n",
      "|       3.0|\n",
      "|       0.5|\n",
      "|       1.0|\n",
      "|       6.0|\n",
      "|       8.0|\n",
      "|       4.0|\n",
      "+----------+\n",
      "\n"
     ]
    }
   ],
   "source": [
    "fintech_df = fintech_df.withColumn(\"emp_length\", fn.regexp_replace(\"emp_length\", \" years?|year\", \"\"))\n",
    "fintech_df = fintech_df.withColumn(\"emp_length\", fn.regexp_replace(\"emp_length\", \"< 1\", \"0.5\"))\n",
    "fintech_df = fintech_df.withColumn(\"emp_length\", fn.regexp_replace(\"emp_length\", \"10\\\\+\", \"11\"))\n",
    "fintech_df = fintech_df.withColumn(\"emp_length\", fintech_df[\"emp_length\"].cast(types.FloatType()))\n",
    "fintech_df.select(\"emp_length\").distinct().show()"
   ]
  },
  {
   "cell_type": "markdown",
   "metadata": {},
   "source": [
    "- One Hot Encoding for `home_ownership` , `verification_status` , `type`  and and update the lookup table"
   ]
  },
  {
   "cell_type": "code",
   "execution_count": 21,
   "metadata": {},
   "outputs": [],
   "source": [
    "def one_hot_encoding(df: DataFrame, column_name: str, lookup_table: DataFrame) -> DataFrame:\n",
    "    distinct_values = df.select(column_name).distinct().rdd.flatMap(lambda x: [str(value).lower().replace(\" \", \"_\") for value in x]).collect()\n",
    "    new_rows = []\n",
    "    for value in distinct_values:\n",
    "        new_column_name = f\"{column_name}_{value}\"\n",
    "        df = df.withColumn(new_column_name, (fn.col(column_name) == value).cast(types.IntegerType()))\n",
    "        new_rows.append((column_name, value, new_column_name, \"one-hot\"))\n",
    "    #  append to lookup table\n",
    "    new_df = spark.createDataFrame(new_rows, schema=lookup_table.schema)\n",
    "    lookup_table = lookup_table.union(new_df)\n",
    "    return df, lookup_table"
   ]
  },
  {
   "cell_type": "code",
   "execution_count": 22,
   "metadata": {},
   "outputs": [
    {
     "name": "stderr",
     "output_type": "stream",
     "text": [
      "                                                                                \r"
     ]
    }
   ],
   "source": [
    "one_hot_encoding_columns = [\"home_ownership\", \"verification_status\", \"type\"]\n",
    "for column in one_hot_encoding_columns:\n",
    "    fintech_df, lookup_table = one_hot_encoding(fintech_df, column, lookup_table)"
   ]
  },
  {
   "cell_type": "code",
   "execution_count": 23,
   "metadata": {},
   "outputs": [
    {
     "name": "stdout",
     "output_type": "stream",
     "text": [
      "+--------------------+------------------+----------+--------------+----------+----------------+-------------------+--------+----------+-----------+-----------+-------+-----------+-----------+-----+-------------+----------+--------+-----+----------------+----------+----------+------------------+--------------------+------------------+-------------------+-----------------------+------------------+----------------------------+-----------------------------------+--------------------------------+--------------+---------------+---------------+----------+\n",
      "|         customer_id|         emp_title|emp_length|home_ownership|annual_inc|annual_inc_joint|verification_status|zip_code|addr_state|avg_cur_bal|tot_cur_bal|loan_id|loan_status|loan_amount|state|funded_amount|      term|int_rate|grade|      issue_date|pymnt_plan|      type|           purpose|         description|home_ownership_own|home_ownership_rent|home_ownership_mortgage|home_ownership_any|verification_status_verified|verification_status_source_verified|verification_status_not_verified|type_joint_app|type_individual|type_direct_pay|type_joint|\n",
      "+--------------------+------------------+----------+--------------+----------+----------------+-------------------+--------+----------+-----------+-----------+-------+-----------+-----------+-----+-------------+----------+--------+-----+----------------+----------+----------+------------------+--------------------+------------------+-------------------+-----------------------+------------------+----------------------------+-----------------------------------+--------------------------------+--------------+---------------+---------------+----------+\n",
      "|YidceDAyXHhmOFx4Z...|               Atk|      11.0|      MORTGAGE|   80000.0|             0.0|           Verified|   934xx|        CA|    55678.0|   222711.0|  52981| Fully Paid|     7000.0|   CA|       7000.0| 36 months|   0.089|    5|    13 July 2013|     false|INDIVIDUAL|debt_consolidation|CC debt Consolida...|                 0|                  0|                      0|                 0|                           0|                                  0|                               0|             0|              0|              0|         0|\n",
      "|YiczdVx4MWRceGNjX...|Director of Online|       1.0|          RENT|   92500.0|             0.0|       Not Verified|   941xx|        CA|     6424.0|   102790.0|  41865| Fully Paid|     6000.0|   CA|       6000.0| 36 months|  0.0999|    6|     15 May 2015|     false|Individual|    major_purchase|      Major purchase|                 0|                  0|                      0|                 0|                           0|                                  0|                               0|             0|              0|              0|         0|\n",
      "|YidjXHhhOVx4ZDBce...|                NP|      11.0|      MORTGAGE|   84000.0|             0.0|       Not Verified|   363xx|        AL|     5870.0|    93919.0|  58866|    Current|     7500.0|   AL|       7500.0| 36 months|  0.0796|    3|   18 April 2018|     false|Individual|             other|               Other|                 0|                  0|                      0|                 0|                           0|                                  0|                               0|             0|              0|              0|         0|\n",
      "|YidceGYzRFx4OWFCX...|      Mail Carrier|      11.0|      MORTGAGE|   70000.0|        130000.0|       Not Verified|   260xx|        WV|    17436.0|   139489.0| 116091|    Current|    12000.0|   WV|      12000.0| 36 months|  0.0608|    4|17 December 2017|     false| Joint App|             other|               Other|                 0|                  0|                      0|                 0|                           0|                                  0|                               0|             0|              0|              0|         0|\n",
      "|YiddOGJceGVhXHg4O...|            Driver|      11.0|      MORTGAGE|  135000.0|             0.0|    Source Verified|   480xx|        MI|    34731.0|   416773.0| 181784|    Current|    18100.0|   MI|      18100.0| 60 months|  0.2055|   19|19 November 2019|     false|Individual|debt_consolidation|  Debt consolidation|                 0|                  0|                      0|                 0|                           0|                                  0|                               0|             0|              0|              0|         0|\n",
      "+--------------------+------------------+----------+--------------+----------+----------------+-------------------+--------+----------+-----------+-----------+-------+-----------+-----------+-----+-------------+----------+--------+-----+----------------+----------+----------+------------------+--------------------+------------------+-------------------+-----------------------+------------------+----------------------------+-----------------------------------+--------------------------------+--------------+---------------+---------------+----------+\n",
      "only showing top 5 rows\n",
      "\n"
     ]
    },
    {
     "name": "stderr",
     "output_type": "stream",
     "text": [
      "24/11/22 00:36:53 WARN SparkStringUtils: Truncated the string representation of a plan since it was too large. This behavior can be adjusted by setting 'spark.sql.debug.maxToStringFields'.\n"
     ]
    }
   ],
   "source": [
    "fintech_df.show(5)"
   ]
  },
  {
   "cell_type": "code",
   "execution_count": 24,
   "metadata": {},
   "outputs": [
    {
     "name": "stdout",
     "output_type": "stream",
     "text": [
      "+-------------------+---------------+--------------------+-------+\n",
      "|             Column|       Original|             Encoded|   Type|\n",
      "+-------------------+---------------+--------------------+-------+\n",
      "|     home_ownership|            own|  home_ownership_own|one-hot|\n",
      "|     home_ownership|           rent| home_ownership_rent|one-hot|\n",
      "|     home_ownership|       mortgage|home_ownership_mo...|one-hot|\n",
      "|     home_ownership|            any|  home_ownership_any|one-hot|\n",
      "|verification_status|       verified|verification_stat...|one-hot|\n",
      "|verification_status|source_verified|verification_stat...|one-hot|\n",
      "|verification_status|   not_verified|verification_stat...|one-hot|\n",
      "|               type|      joint_app|      type_joint_app|one-hot|\n",
      "|               type|     individual|     type_individual|one-hot|\n",
      "|               type|     direct_pay|     type_direct_pay|one-hot|\n",
      "|               type|          joint|          type_joint|one-hot|\n",
      "|               type|     individual|     type_individual|one-hot|\n",
      "+-------------------+---------------+--------------------+-------+\n",
      "\n"
     ]
    }
   ],
   "source": [
    "lookup_table.show()"
   ]
  },
  {
   "cell_type": "markdown",
   "metadata": {},
   "source": [
    "- Label Encoding for `state` and `purpose` and update the lookup table"
   ]
  },
  {
   "cell_type": "code",
   "execution_count": 25,
   "metadata": {},
   "outputs": [],
   "source": [
    "from pyspark.ml.feature import StringIndexer\n",
    "\n",
    "def label_encoding(df: DataFrame, column_name: str, lookup_table: DataFrame) -> DataFrame:\n",
    "    # Initialize StringIndexer to encode the specified column\n",
    "    indexer = StringIndexer(inputCol=column_name, outputCol=f\"{column_name}_encoded\")\n",
    "    model = indexer.fit(df)\n",
    "    df = model.transform(df)\n",
    "    \n",
    "    labels = model.labels\n",
    "    encoded_values = list(map(str, range(len(labels))))\n",
    "    \n",
    "    new_rows = [(column_name, original, encoded, \"Label\") for original, encoded in zip(labels, encoded_values)]\n",
    "    new_df = spark.createDataFrame(new_rows, schema=lookup_table.schema)\n",
    "\n",
    "    lookup_table = lookup_table.union(new_df).distinct()\n",
    "\n",
    "    return df, lookup_table"
   ]
  },
  {
   "cell_type": "code",
   "execution_count": 26,
   "metadata": {},
   "outputs": [
    {
     "name": "stdout",
     "output_type": "stream",
     "text": [
      "+--------------------+------------------+----------+--------------+----------+----------------+-------------------+--------+----------+-----------+-----------+-------+-----------+-----------+-----+-------------+----------+--------+-----+----------------+----------+----------+------------------+--------------------+------------------+-------------------+-----------------------+------------------+----------------------------+-----------------------------------+--------------------------------+--------------+---------------+---------------+----------+-------------+---------------+\n",
      "|         customer_id|         emp_title|emp_length|home_ownership|annual_inc|annual_inc_joint|verification_status|zip_code|addr_state|avg_cur_bal|tot_cur_bal|loan_id|loan_status|loan_amount|state|funded_amount|      term|int_rate|grade|      issue_date|pymnt_plan|      type|           purpose|         description|home_ownership_own|home_ownership_rent|home_ownership_mortgage|home_ownership_any|verification_status_verified|verification_status_source_verified|verification_status_not_verified|type_joint_app|type_individual|type_direct_pay|type_joint|state_encoded|purpose_encoded|\n",
      "+--------------------+------------------+----------+--------------+----------+----------------+-------------------+--------+----------+-----------+-----------+-------+-----------+-----------+-----+-------------+----------+--------+-----+----------------+----------+----------+------------------+--------------------+------------------+-------------------+-----------------------+------------------+----------------------------+-----------------------------------+--------------------------------+--------------+---------------+---------------+----------+-------------+---------------+\n",
      "|YidceDAyXHhmOFx4Z...|               Atk|      11.0|      MORTGAGE|   80000.0|             0.0|           Verified|   934xx|        CA|    55678.0|   222711.0|  52981| Fully Paid|     7000.0|   CA|       7000.0| 36 months|   0.089|    5|    13 July 2013|     false|INDIVIDUAL|debt_consolidation|CC debt Consolida...|                 0|                  0|                      0|                 0|                           0|                                  0|                               0|             0|              0|              0|         0|          0.0|            0.0|\n",
      "|YiczdVx4MWRceGNjX...|Director of Online|       1.0|          RENT|   92500.0|             0.0|       Not Verified|   941xx|        CA|     6424.0|   102790.0|  41865| Fully Paid|     6000.0|   CA|       6000.0| 36 months|  0.0999|    6|     15 May 2015|     false|Individual|    major_purchase|      Major purchase|                 0|                  0|                      0|                 0|                           0|                                  0|                               0|             0|              0|              0|         0|          0.0|            4.0|\n",
      "|YidjXHhhOVx4ZDBce...|                NP|      11.0|      MORTGAGE|   84000.0|             0.0|       Not Verified|   363xx|        AL|     5870.0|    93919.0|  58866|    Current|     7500.0|   AL|       7500.0| 36 months|  0.0796|    3|   18 April 2018|     false|Individual|             other|               Other|                 0|                  0|                      0|                 0|                           0|                                  0|                               0|             0|              0|              0|         0|         27.0|            3.0|\n",
      "|YidceGYzRFx4OWFCX...|      Mail Carrier|      11.0|      MORTGAGE|   70000.0|        130000.0|       Not Verified|   260xx|        WV|    17436.0|   139489.0| 116091|    Current|    12000.0|   WV|      12000.0| 36 months|  0.0608|    4|17 December 2017|     false| Joint App|             other|               Other|                 0|                  0|                      0|                 0|                           0|                                  0|                               0|             0|              0|              0|         0|         38.0|            3.0|\n",
      "|YiddOGJceGVhXHg4O...|            Driver|      11.0|      MORTGAGE|  135000.0|             0.0|    Source Verified|   480xx|        MI|    34731.0|   416773.0| 181784|    Current|    18100.0|   MI|      18100.0| 60 months|  0.2055|   19|19 November 2019|     false|Individual|debt_consolidation|  Debt consolidation|                 0|                  0|                      0|                 0|                           0|                                  0|                               0|             0|              0|              0|         0|         11.0|            0.0|\n",
      "+--------------------+------------------+----------+--------------+----------+----------------+-------------------+--------+----------+-----------+-----------+-------+-----------+-----------+-----+-------------+----------+--------+-----+----------------+----------+----------+------------------+--------------------+------------------+-------------------+-----------------------+------------------+----------------------------+-----------------------------------+--------------------------------+--------------+---------------+---------------+----------+-------------+---------------+\n",
      "only showing top 5 rows\n",
      "\n"
     ]
    }
   ],
   "source": [
    "label_encoding_columns = [\"state\", \"purpose\"]\n",
    "for column in label_encoding_columns:\n",
    "    fintech_df, lookup_table = label_encoding(fintech_df, column, lookup_table)\n",
    "\n",
    "fintech_df.show(5)"
   ]
  },
  {
   "cell_type": "code",
   "execution_count": 27,
   "metadata": {},
   "outputs": [
    {
     "name": "stderr",
     "output_type": "stream",
     "text": [
      "[Stage 206:============================>                          (25 + 8) / 48]\r"
     ]
    },
    {
     "name": "stdout",
     "output_type": "stream",
     "text": [
      "+-------------------+---------------+--------------------+-------+\n",
      "|             Column|       Original|             Encoded|   Type|\n",
      "+-------------------+---------------+--------------------+-------+\n",
      "|     home_ownership|            own|  home_ownership_own|one-hot|\n",
      "|     home_ownership|           rent| home_ownership_rent|one-hot|\n",
      "|     home_ownership|       mortgage|home_ownership_mo...|one-hot|\n",
      "|     home_ownership|            any|  home_ownership_any|one-hot|\n",
      "|verification_status|       verified|verification_stat...|one-hot|\n",
      "|verification_status|source_verified|verification_stat...|one-hot|\n",
      "|verification_status|   not_verified|verification_stat...|one-hot|\n",
      "|               type|      joint_app|      type_joint_app|one-hot|\n",
      "|               type|     individual|     type_individual|one-hot|\n",
      "|               type|     direct_pay|     type_direct_pay|one-hot|\n",
      "|               type|          joint|          type_joint|one-hot|\n",
      "|              state|             NY|                   2|  Label|\n",
      "|              state|             FL|                   3|  Label|\n",
      "|              state|             TX|                   1|  Label|\n",
      "|              state|             CA|                   0|  Label|\n",
      "|              state|             NJ|                   5|  Label|\n",
      "|              state|             IL|                   4|  Label|\n",
      "|              state|             GA|                   8|  Label|\n",
      "|              state|             VA|                   9|  Label|\n",
      "|              state|             OH|                   7|  Label|\n",
      "+-------------------+---------------+--------------------+-------+\n",
      "only showing top 20 rows\n",
      "\n"
     ]
    },
    {
     "name": "stderr",
     "output_type": "stream",
     "text": [
      "                                                                                \r"
     ]
    }
   ],
   "source": [
    "lookup_table.show()"
   ]
  },
  {
   "cell_type": "markdown",
   "metadata": {},
   "source": [
    "- Discretize the grade to be a letter grade"
   ]
  },
  {
   "cell_type": "code",
   "execution_count": 28,
   "metadata": {},
   "outputs": [],
   "source": [
    "fintech_df.createOrReplaceTempView(\"grades_table\")\n",
    "\n",
    "query = \"\"\"\n",
    "SELECT *,\n",
    "    CASE \n",
    "        WHEN grade BETWEEN 1 AND 5 THEN 'A'\n",
    "        WHEN grade BETWEEN 6 AND 10 THEN 'B'\n",
    "        WHEN grade BETWEEN 11 AND 15 THEN 'C'\n",
    "        WHEN grade BETWEEN 16 AND 20 THEN 'D'\n",
    "        WHEN grade BETWEEN 21 AND 25 THEN 'E'\n",
    "        WHEN grade BETWEEN 26 AND 30 THEN 'F'\n",
    "        WHEN grade BETWEEN 31 AND 35 THEN 'G'\n",
    "        ELSE NULL\n",
    "    END AS grade_letter\n",
    "FROM grades_table\n",
    "\"\"\"\n",
    "\n",
    "fintech_df = spark.sql(query)"
   ]
  },
  {
   "cell_type": "code",
   "execution_count": 29,
   "metadata": {},
   "outputs": [
    {
     "name": "stdout",
     "output_type": "stream",
     "text": [
      "+--------------------+------------------+----------+--------------+----------+----------------+-------------------+--------+----------+-----------+-----------+-------+-----------+-----------+-----+-------------+----------+--------+-----+----------------+----------+----------+------------------+--------------------+------------------+-------------------+-----------------------+------------------+----------------------------+-----------------------------------+--------------------------------+--------------+---------------+---------------+----------+-------------+---------------+------------+\n",
      "|         customer_id|         emp_title|emp_length|home_ownership|annual_inc|annual_inc_joint|verification_status|zip_code|addr_state|avg_cur_bal|tot_cur_bal|loan_id|loan_status|loan_amount|state|funded_amount|      term|int_rate|grade|      issue_date|pymnt_plan|      type|           purpose|         description|home_ownership_own|home_ownership_rent|home_ownership_mortgage|home_ownership_any|verification_status_verified|verification_status_source_verified|verification_status_not_verified|type_joint_app|type_individual|type_direct_pay|type_joint|state_encoded|purpose_encoded|grade_letter|\n",
      "+--------------------+------------------+----------+--------------+----------+----------------+-------------------+--------+----------+-----------+-----------+-------+-----------+-----------+-----+-------------+----------+--------+-----+----------------+----------+----------+------------------+--------------------+------------------+-------------------+-----------------------+------------------+----------------------------+-----------------------------------+--------------------------------+--------------+---------------+---------------+----------+-------------+---------------+------------+\n",
      "|YidceDAyXHhmOFx4Z...|               Atk|      11.0|      MORTGAGE|   80000.0|             0.0|           Verified|   934xx|        CA|    55678.0|   222711.0|  52981| Fully Paid|     7000.0|   CA|       7000.0| 36 months|   0.089|    5|    13 July 2013|     false|INDIVIDUAL|debt_consolidation|CC debt Consolida...|                 0|                  0|                      0|                 0|                           0|                                  0|                               0|             0|              0|              0|         0|          0.0|            0.0|           A|\n",
      "|YiczdVx4MWRceGNjX...|Director of Online|       1.0|          RENT|   92500.0|             0.0|       Not Verified|   941xx|        CA|     6424.0|   102790.0|  41865| Fully Paid|     6000.0|   CA|       6000.0| 36 months|  0.0999|    6|     15 May 2015|     false|Individual|    major_purchase|      Major purchase|                 0|                  0|                      0|                 0|                           0|                                  0|                               0|             0|              0|              0|         0|          0.0|            4.0|           B|\n",
      "|YidjXHhhOVx4ZDBce...|                NP|      11.0|      MORTGAGE|   84000.0|             0.0|       Not Verified|   363xx|        AL|     5870.0|    93919.0|  58866|    Current|     7500.0|   AL|       7500.0| 36 months|  0.0796|    3|   18 April 2018|     false|Individual|             other|               Other|                 0|                  0|                      0|                 0|                           0|                                  0|                               0|             0|              0|              0|         0|         27.0|            3.0|           A|\n",
      "|YidceGYzRFx4OWFCX...|      Mail Carrier|      11.0|      MORTGAGE|   70000.0|        130000.0|       Not Verified|   260xx|        WV|    17436.0|   139489.0| 116091|    Current|    12000.0|   WV|      12000.0| 36 months|  0.0608|    4|17 December 2017|     false| Joint App|             other|               Other|                 0|                  0|                      0|                 0|                           0|                                  0|                               0|             0|              0|              0|         0|         38.0|            3.0|           A|\n",
      "|YiddOGJceGVhXHg4O...|            Driver|      11.0|      MORTGAGE|  135000.0|             0.0|    Source Verified|   480xx|        MI|    34731.0|   416773.0| 181784|    Current|    18100.0|   MI|      18100.0| 60 months|  0.2055|   19|19 November 2019|     false|Individual|debt_consolidation|  Debt consolidation|                 0|                  0|                      0|                 0|                           0|                                  0|                               0|             0|              0|              0|         0|         11.0|            0.0|           D|\n",
      "+--------------------+------------------+----------+--------------+----------+----------------+-------------------+--------+----------+-----------+-----------+-------+-----------+-----------+-----+-------------+----------+--------+-----+----------------+----------+----------+------------------+--------------------+------------------+-------------------+-----------------------+------------------+----------------------------+-----------------------------------+--------------------------------+--------------+---------------+---------------+----------+-------------+---------------+------------+\n",
      "only showing top 5 rows\n",
      "\n"
     ]
    }
   ],
   "source": [
    "fintech_df.show(5)"
   ]
  },
  {
   "cell_type": "markdown",
   "metadata": {},
   "source": [
    "drop grade column"
   ]
  },
  {
   "cell_type": "code",
   "execution_count": 30,
   "metadata": {},
   "outputs": [
    {
     "name": "stdout",
     "output_type": "stream",
     "text": [
      "+--------------------+------------------+----------+--------------+----------+----------------+-------------------+--------+----------+-----------+-----------+-------+-----------+-----------+-----+-------------+----------+--------+----------------+----------+----------+------------------+--------------------+------------------+-------------------+-----------------------+------------------+----------------------------+-----------------------------------+--------------------------------+--------------+---------------+---------------+----------+-------------+---------------+------------+\n",
      "|         customer_id|         emp_title|emp_length|home_ownership|annual_inc|annual_inc_joint|verification_status|zip_code|addr_state|avg_cur_bal|tot_cur_bal|loan_id|loan_status|loan_amount|state|funded_amount|      term|int_rate|      issue_date|pymnt_plan|      type|           purpose|         description|home_ownership_own|home_ownership_rent|home_ownership_mortgage|home_ownership_any|verification_status_verified|verification_status_source_verified|verification_status_not_verified|type_joint_app|type_individual|type_direct_pay|type_joint|state_encoded|purpose_encoded|grade_letter|\n",
      "+--------------------+------------------+----------+--------------+----------+----------------+-------------------+--------+----------+-----------+-----------+-------+-----------+-----------+-----+-------------+----------+--------+----------------+----------+----------+------------------+--------------------+------------------+-------------------+-----------------------+------------------+----------------------------+-----------------------------------+--------------------------------+--------------+---------------+---------------+----------+-------------+---------------+------------+\n",
      "|YidceDAyXHhmOFx4Z...|               Atk|      11.0|      MORTGAGE|   80000.0|             0.0|           Verified|   934xx|        CA|    55678.0|   222711.0|  52981| Fully Paid|     7000.0|   CA|       7000.0| 36 months|   0.089|    13 July 2013|     false|INDIVIDUAL|debt_consolidation|CC debt Consolida...|                 0|                  0|                      0|                 0|                           0|                                  0|                               0|             0|              0|              0|         0|          0.0|            0.0|           A|\n",
      "|YiczdVx4MWRceGNjX...|Director of Online|       1.0|          RENT|   92500.0|             0.0|       Not Verified|   941xx|        CA|     6424.0|   102790.0|  41865| Fully Paid|     6000.0|   CA|       6000.0| 36 months|  0.0999|     15 May 2015|     false|Individual|    major_purchase|      Major purchase|                 0|                  0|                      0|                 0|                           0|                                  0|                               0|             0|              0|              0|         0|          0.0|            4.0|           B|\n",
      "|YidjXHhhOVx4ZDBce...|                NP|      11.0|      MORTGAGE|   84000.0|             0.0|       Not Verified|   363xx|        AL|     5870.0|    93919.0|  58866|    Current|     7500.0|   AL|       7500.0| 36 months|  0.0796|   18 April 2018|     false|Individual|             other|               Other|                 0|                  0|                      0|                 0|                           0|                                  0|                               0|             0|              0|              0|         0|         27.0|            3.0|           A|\n",
      "|YidceGYzRFx4OWFCX...|      Mail Carrier|      11.0|      MORTGAGE|   70000.0|        130000.0|       Not Verified|   260xx|        WV|    17436.0|   139489.0| 116091|    Current|    12000.0|   WV|      12000.0| 36 months|  0.0608|17 December 2017|     false| Joint App|             other|               Other|                 0|                  0|                      0|                 0|                           0|                                  0|                               0|             0|              0|              0|         0|         38.0|            3.0|           A|\n",
      "|YiddOGJceGVhXHg4O...|            Driver|      11.0|      MORTGAGE|  135000.0|             0.0|    Source Verified|   480xx|        MI|    34731.0|   416773.0| 181784|    Current|    18100.0|   MI|      18100.0| 60 months|  0.2055|19 November 2019|     false|Individual|debt_consolidation|  Debt consolidation|                 0|                  0|                      0|                 0|                           0|                                  0|                               0|             0|              0|              0|         0|         11.0|            0.0|           D|\n",
      "+--------------------+------------------+----------+--------------+----------+----------------+-------------------+--------+----------+-----------+-----------+-------+-----------+-----------+-----+-------------+----------+--------+----------------+----------+----------+------------------+--------------------+------------------+-------------------+-----------------------+------------------+----------------------------+-----------------------------------+--------------------------------+--------------+---------------+---------------+----------+-------------+---------------+------------+\n",
      "only showing top 5 rows\n",
      "\n"
     ]
    }
   ],
   "source": [
    "fintech_df = fintech_df.drop(\"grade\")\n",
    "fintech_df.show(5)"
   ]
  },
  {
   "cell_type": "markdown",
   "metadata": {},
   "source": [
    "##### Part 4: Feature Engineering"
   ]
  },
  {
   "cell_type": "code",
   "execution_count": 31,
   "metadata": {},
   "outputs": [
    {
     "name": "stdout",
     "output_type": "stream",
     "text": [
      "StringType()\n"
     ]
    }
   ],
   "source": [
    "print(fintech_df.schema[\"issue_date\"].dataType)"
   ]
  },
  {
   "cell_type": "markdown",
   "metadata": {},
   "source": [
    "- Parse the issue date column to date type"
   ]
  },
  {
   "cell_type": "code",
   "execution_count": 32,
   "metadata": {},
   "outputs": [],
   "source": [
    "fintech_df = fintech_df.withColumn(\"issue_date\", fn.to_date(\"issue_date\", \"dd MMMM yyyy\"))"
   ]
  },
  {
   "cell_type": "code",
   "execution_count": 33,
   "metadata": {},
   "outputs": [
    {
     "name": "stdout",
     "output_type": "stream",
     "text": [
      "+----------+\n",
      "|issue_date|\n",
      "+----------+\n",
      "|2013-08-13|\n",
      "|2013-08-13|\n",
      "|2013-08-13|\n",
      "|2013-08-13|\n",
      "|2013-08-13|\n",
      "+----------+\n",
      "only showing top 5 rows\n",
      "\n"
     ]
    }
   ],
   "source": [
    "fintech_df.select(\"issue_date\").show(5)"
   ]
  },
  {
   "cell_type": "markdown",
   "metadata": {},
   "source": [
    "- Previous loan issue date from the same grade letter"
   ]
  },
  {
   "cell_type": "code",
   "execution_count": 34,
   "metadata": {},
   "outputs": [
    {
     "name": "stdout",
     "output_type": "stream",
     "text": [
      "+--------------------+--------------------+----------+--------------+----------+----------------+-------------------+--------+----------+-----------+-----------+-------+-----------+-----------+-----+-------------+----------+--------+----------+----------+----------+------------------+--------------------+------------------+-------------------+-----------------------+------------------+----------------------------+-----------------------------------+--------------------------------+--------------+---------------+---------------+----------+-------------+---------------+------------+---------------------+\n",
      "|         customer_id|           emp_title|emp_length|home_ownership|annual_inc|annual_inc_joint|verification_status|zip_code|addr_state|avg_cur_bal|tot_cur_bal|loan_id|loan_status|loan_amount|state|funded_amount|      term|int_rate|issue_date|pymnt_plan|      type|           purpose|         description|home_ownership_own|home_ownership_rent|home_ownership_mortgage|home_ownership_any|verification_status_verified|verification_status_source_verified|verification_status_not_verified|type_joint_app|type_individual|type_direct_pay|type_joint|state_encoded|purpose_encoded|grade_letter|prev_issue_date_grade|\n",
      "+--------------------+--------------------+----------+--------------+----------+----------------+-------------------+--------+----------+-----------+-----------+-------+-----------+-----------+-----+-------------+----------+--------+----------+----------+----------+------------------+--------------------+------------------+-------------------+-----------------------+------------------+----------------------------+-----------------------------------+--------------------------------+--------------+---------------+---------------+----------+-------------+---------------+------------+---------------------+\n",
      "|YidceGRmT1x4YmZ3e...|   Verified response|       0.5|           OWN|   50000.0|             0.0|       Not Verified|   752xx|        TX|     3964.0|    31709.0|  92876|Charged Off|    10000.0|   TX|      10000.0| 36 months|  0.1212|2012-08-12|     false|INDIVIDUAL|debt_consolidation|Credit consolidation|                 0|                  0|                      0|                 0|                           0|                                  0|                               0|             0|              0|              0|         0|          1.0|            0.0|           B|                 NULL|\n",
      "|YicxXlx4OTFceGNkX...|Waggoner Construc...|       3.0|      MORTGAGE|   98500.0|             0.0|       Not Verified|   173xx|        PA|    19510.0|   292657.0|  53788| Fully Paid|     7000.0|   PA|       7000.0| 36 months|  0.1114|2012-08-12|     false|INDIVIDUAL|           wedding|        wedding 2012|                 0|                  0|                      0|                 0|                           0|                                  0|                               0|             0|              0|              0|         0|          6.0|           12.0|           B|           2012-08-12|\n",
      "|YidceGVlXHhiN29ce...|town&countryfurni...|      11.0|          RENT|   34809.0|             0.0|       Not Verified|   239xx|        VA|     3071.0|    18424.0|  67850| Fully Paid|     8000.0|   VA|       8000.0| 36 months|  0.1409|2012-08-12|     false|INDIVIDUAL|       credit_card|Credit card refin...|                 0|                  0|                      0|                 0|                           0|                                  0|                               0|             0|              0|              0|         0|          9.0|            1.0|           B|           2012-08-12|\n",
      "|YidceGU3a1x4ODJce...|        ValueTronics|       6.0|          RENT|   52000.0|             0.0|       Not Verified|   601xx|        IL|     2922.0|    26302.0|  92880| Fully Paid|    10000.0|   IL|      10000.0| 36 months|  0.1212|2012-08-12|     false|INDIVIDUAL|debt_consolidation|Getting out from ...|                 0|                  0|                      0|                 0|                           0|                                  0|                               0|             0|              0|              0|         0|          4.0|            0.0|           B|           2012-08-12|\n",
      "|YidceGM2IVx4ZTEsM...|       Software-Link|       2.0|      MORTGAGE|  102500.0|             0.0|           Verified|   554xx|        MN|    66202.0|   463414.0| 250967| Fully Paid|    32875.0|   MN|      32875.0| 36 months|  0.1212|2012-08-12|     false|INDIVIDUAL|debt_consolidation|         Consolidate|                 0|                  0|                      0|                 0|                           0|                                  0|                               0|             0|              0|              0|         0|         17.0|            0.0|           B|           2012-08-12|\n",
      "+--------------------+--------------------+----------+--------------+----------+----------------+-------------------+--------+----------+-----------+-----------+-------+-----------+-----------+-----+-------------+----------+--------+----------+----------+----------+------------------+--------------------+------------------+-------------------+-----------------------+------------------+----------------------------+-----------------------------------+--------------------------------+--------------+---------------+---------------+----------+-------------+---------------+------------+---------------------+\n",
      "only showing top 5 rows\n",
      "\n"
     ]
    }
   ],
   "source": [
    "window = Window.partitionBy(\"grade_letter\").orderBy(\"issue_date\")\n",
    "\n",
    "lag_fn = fn.lag(\"issue_date\", 1).over(window)\n",
    "\n",
    "fintech_df = fintech_df.withColumn(\"prev_issue_date_grade\", lag_fn)\n",
    "\n",
    "fintech_df.show(5)"
   ]
  },
  {
   "cell_type": "code",
   "execution_count": 35,
   "metadata": {},
   "outputs": [
    {
     "name": "stdout",
     "output_type": "stream",
     "text": [
      "+------------+----------+---------------------+\n",
      "|grade_letter|issue_date|prev_issue_date_grade|\n",
      "+------------+----------+---------------------+\n",
      "|           A|2012-09-12|                 NULL|\n",
      "|           A|2012-09-12|           2012-09-12|\n",
      "|           A|2012-09-12|           2012-09-12|\n",
      "|           A|2012-09-12|           2012-09-12|\n",
      "|           A|2012-09-12|           2012-09-12|\n",
      "|           A|2012-09-12|           2012-09-12|\n",
      "|           A|2012-09-12|           2012-09-12|\n",
      "|           A|2012-09-12|           2012-09-12|\n",
      "|           A|2012-09-12|           2012-09-12|\n",
      "|           A|2012-09-12|           2012-09-12|\n",
      "|           A|2012-09-12|           2012-09-12|\n",
      "|           A|2012-09-12|           2012-09-12|\n",
      "|           A|2012-09-12|           2012-09-12|\n",
      "|           A|2012-09-12|           2012-09-12|\n",
      "|           A|2012-09-12|           2012-09-12|\n",
      "|           A|2012-09-12|           2012-09-12|\n",
      "|           A|2012-09-12|           2012-09-12|\n",
      "|           A|2012-10-12|           2012-09-12|\n",
      "|           A|2012-10-12|           2012-10-12|\n",
      "|           A|2012-10-12|           2012-10-12|\n",
      "+------------+----------+---------------------+\n",
      "only showing top 20 rows\n",
      "\n"
     ]
    }
   ],
   "source": [
    "fintech_df.select(\"grade_letter\", \"issue_date\", \"prev_issue_date_grade\").orderBy(\"grade_letter\", \"issue_date\").show(20)"
   ]
  },
  {
   "cell_type": "markdown",
   "metadata": {},
   "source": [
    "- Previous loan issue amount from the same grade letter"
   ]
  },
  {
   "cell_type": "code",
   "execution_count": 36,
   "metadata": {},
   "outputs": [
    {
     "name": "stdout",
     "output_type": "stream",
     "text": [
      "+--------------------+--------------------+----------+--------------+----------+----------------+-------------------+--------+----------+-----------+-----------+-------+-----------+-----------+-----+-------------+----------+--------+----------+----------+----------+------------------+------------------+------------------+-------------------+-----------------------+------------------+----------------------------+-----------------------------------+--------------------------------+--------------+---------------+---------------+----------+-------------+---------------+------------+---------------------+----------------------+\n",
      "|         customer_id|           emp_title|emp_length|home_ownership|annual_inc|annual_inc_joint|verification_status|zip_code|addr_state|avg_cur_bal|tot_cur_bal|loan_id|loan_status|loan_amount|state|funded_amount|      term|int_rate|issue_date|pymnt_plan|      type|           purpose|       description|home_ownership_own|home_ownership_rent|home_ownership_mortgage|home_ownership_any|verification_status_verified|verification_status_source_verified|verification_status_not_verified|type_joint_app|type_individual|type_direct_pay|type_joint|state_encoded|purpose_encoded|grade_letter|prev_issue_date_grade|prev_loan_amount_grade|\n",
      "+--------------------+--------------------+----------+--------------+----------+----------------+-------------------+--------+----------+-----------+-----------+-------+-----------+-----------+-----+-------------+----------+--------+----------+----------+----------+------------------+------------------+------------------+-------------------+-----------------------+------------------+----------------------------+-----------------------------------+--------------------------------+--------------+---------------+---------------+----------+-------------+---------------+------------+---------------------+----------------------+\n",
      "|YidceDE2XHhjNVRce...|    nurse supervisor|      11.0|      MORTGAGE|   39000.0|             0.0|       Not Verified|   383xx|        TN|     5745.0|    51707.0|    398| Fully Paid|     1000.0|   TN|       1000.0| 36 months|  0.1199|2013-12-13|     false|INDIVIDUAL|             other|          personal|                 0|                  0|                      0|                 0|                           0|                                  0|                               0|             0|              0|              0|         0|         18.0|            3.0|           B|           2013-12-13|                  NULL|\n",
      "|YicyXHg5Y1x4YWVce...|Director of Food ...|       1.0|          RENT|   38000.0|             0.0|           Verified|   339xx|        FL|     4531.0|    72497.0|    441|    Current|     1000.0|   FL|       1000.0| 36 months|  0.1249|2014-10-14|     false|INDIVIDUAL|debt_consolidation|Debt consolidation|                 0|                  0|                      0|                 0|                           0|                                  0|                               0|             0|              0|              0|         0|          3.0|            0.0|           B|           2014-10-14|                1000.0|\n",
      "|YidlN1x4YzJNXHhmZ...|         Pantry Chef|      11.0|      MORTGAGE|   26000.0|             0.0|       Not Verified|   857xx|        AZ|     5624.0|    61859.0|    245| Fully Paid|     1000.0|   AZ|       1000.0| 36 months|  0.0999|2015-05-15|     false|Individual|debt_consolidation|Debt consolidation|                 0|                  0|                      0|                 0|                           0|                                  0|                               0|             0|              0|              0|         0|         14.0|            0.0|           B|           2015-05-15|                1000.0|\n",
      "|YicqXHg4OFx4YWNce...|technical account...|       8.0|      MORTGAGE|  130000.0|             0.0|       Not Verified|   077xx|        NJ|    28036.0|   364462.0|    206| Fully Paid|     1000.0|   NJ|       1000.0| 36 months|  0.0917|2015-07-15|     false|Individual|debt_consolidation|Debt consolidation|                 0|                  0|                      0|                 0|                           0|                                  0|                               0|             0|              0|              0|         0|          5.0|            0.0|           B|           2015-07-15|                1000.0|\n",
      "|YidceGY3WFx4N2Zce...|claim representative|      11.0|      MORTGAGE|   64000.0|             0.0|    Source Verified|   494xx|        MI|     8165.0|    89817.0|    207| Fully Paid|     1000.0|   MI|       1000.0| 36 months|  0.0917|2015-12-15|     false|Individual|             other|             Other|                 0|                  0|                      0|                 0|                           0|                                  0|                               0|             0|              0|              0|         0|         11.0|            3.0|           B|           2015-12-15|                1000.0|\n",
      "+--------------------+--------------------+----------+--------------+----------+----------------+-------------------+--------+----------+-----------+-----------+-------+-----------+-----------+-----+-------------+----------+--------+----------+----------+----------+------------------+------------------+------------------+-------------------+-----------------------+------------------+----------------------------+-----------------------------------+--------------------------------+--------------+---------------+---------------+----------+-------------+---------------+------------+---------------------+----------------------+\n",
      "only showing top 5 rows\n",
      "\n"
     ]
    }
   ],
   "source": [
    "window = Window.partitionBy(\"grade_letter\").orderBy(\"loan_amount\")\n",
    "\n",
    "lag_fn = fn.lag(\"loan_amount\", 1).over(window)\n",
    "\n",
    "fintech_df = fintech_df.withColumn(\"prev_loan_amount_grade\", lag_fn)\n",
    "\n",
    "fintech_df.show(5)"
   ]
  },
  {
   "cell_type": "code",
   "execution_count": 37,
   "metadata": {},
   "outputs": [
    {
     "name": "stdout",
     "output_type": "stream",
     "text": [
      "+------------+-----------+----------------------+\n",
      "|grade_letter|loan_amount|prev_loan_amount_grade|\n",
      "+------------+-----------+----------------------+\n",
      "|           A|     1000.0|                  NULL|\n",
      "|           A|     1000.0|                1000.0|\n",
      "|           A|     1000.0|                1000.0|\n",
      "|           A|     1000.0|                1000.0|\n",
      "|           A|     1000.0|                1000.0|\n",
      "|           A|     1000.0|                1000.0|\n",
      "|           A|     1000.0|                1000.0|\n",
      "|           A|     1000.0|                1000.0|\n",
      "|           A|     1000.0|                1000.0|\n",
      "|           A|     1000.0|                1000.0|\n",
      "|           A|     1100.0|                1000.0|\n",
      "|           A|     1125.0|                1100.0|\n",
      "|           A|     1200.0|                1125.0|\n",
      "|           A|     1200.0|                1200.0|\n",
      "|           A|     1200.0|                1200.0|\n",
      "|           A|     1200.0|                1200.0|\n",
      "|           A|     1200.0|                1200.0|\n",
      "|           A|     1200.0|                1200.0|\n",
      "|           A|     1200.0|                1200.0|\n",
      "|           A|     1300.0|                1200.0|\n",
      "+------------+-----------+----------------------+\n",
      "only showing top 20 rows\n",
      "\n"
     ]
    }
   ],
   "source": [
    "fintech_df.select(\"grade_letter\", \"loan_amount\", \"prev_loan_amount_grade\").orderBy(\"grade_letter\", \"loan_amount\").show(20)"
   ]
  },
  {
   "cell_type": "markdown",
   "metadata": {},
   "source": [
    "- Previous loan date from the same state and grade combined"
   ]
  },
  {
   "cell_type": "code",
   "execution_count": 38,
   "metadata": {},
   "outputs": [
    {
     "name": "stdout",
     "output_type": "stream",
     "text": [
      "+--------------------+--------------------+----------+--------------+----------+----------------+-------------------+--------+----------+-----------+-----------+-------+-----------+-----------+-----+-------------+----------+--------+----------+----------+----------+------------------+--------------------+------------------+-------------------+-----------------------+------------------+----------------------------+-----------------------------------+--------------------------------+--------------+---------------+---------------+----------+-------------+---------------+------------+---------------------+----------------------+---------------------------+\n",
      "|         customer_id|           emp_title|emp_length|home_ownership|annual_inc|annual_inc_joint|verification_status|zip_code|addr_state|avg_cur_bal|tot_cur_bal|loan_id|loan_status|loan_amount|state|funded_amount|      term|int_rate|issue_date|pymnt_plan|      type|           purpose|         description|home_ownership_own|home_ownership_rent|home_ownership_mortgage|home_ownership_any|verification_status_verified|verification_status_source_verified|verification_status_not_verified|type_joint_app|type_individual|type_direct_pay|type_joint|state_encoded|purpose_encoded|grade_letter|prev_issue_date_grade|prev_loan_amount_grade|prev_issue_date_state_grade|\n",
      "+--------------------+--------------------+----------+--------------+----------+----------------+-------------------+--------+----------+-----------+-----------+-------+-----------+-----------+-----+-------------+----------+--------+----------+----------+----------+------------------+--------------------+------------------+-------------------+-----------------------+------------------+----------------------------+-----------------------------------+--------------------------------+--------------+---------------+---------------+----------+-------------+---------------+------------+---------------------+----------------------+---------------------------+\n",
      "|YidzXHg4N0pceDEyX...|Milner, Howard & ...|       8.0|      MORTGAGE|   75000.0|             0.0|           Verified|   999xx|        AK|     5823.0|    69878.0| 135772| Fully Paid|    13375.0|   AK|      13375.0| 36 months|  0.1114|2013-06-13|     false|INDIVIDUAL|       credit_card|  Debt Consolidation|                 0|                  0|                      0|                 0|                           0|                                  0|                               0|             0|              0|              0|         0|         45.0|            1.0|           B|           2013-06-13|               13325.0|                       NULL|\n",
      "|YidceGFkU1x4ZjFce...|  Education Director|      11.0|      MORTGAGE|  100000.0|             0.0|       Not Verified|   995xx|        AK|    46534.0|   372272.0| 149314| Fully Paid|    15000.0|   AK|      15000.0| 36 months|  0.0999|2013-10-13|     false|INDIVIDUAL|debt_consolidation|  Debt Consolidation|                 0|                  0|                      0|                 0|                           0|                                  0|                               0|             0|              0|              0|         0|         45.0|            0.0|           B|           2013-10-13|               15000.0|                 2013-06-13|\n",
      "|Yic/XHg5NFx4Y2Vce...| Director of Signals|       4.0|          RENT|  126515.0|             0.0|           Verified|   995xx|        AK|     7184.0|    64656.0| 120111| Fully Paid|    12000.0|   AK|      12000.0| 36 months|  0.1099|2014-02-14|     false|INDIVIDUAL|       credit_card|Credit card refin...|                 0|                  0|                      0|                 0|                           0|                                  0|                               0|             0|              0|              0|         0|         45.0|            1.0|           B|           2014-02-14|               12000.0|                 2013-10-13|\n",
      "|YidceGQ3N1x4ZWZce...|Business support ...|       1.0|          RENT|   43520.0|             0.0|    Source Verified|   995xx|        AK|     8235.0|    32940.0| 110138| Fully Paid|    11000.0|   AK|      11000.0| 36 months|  0.1167|2014-06-14|     false|INDIVIDUAL|       credit_card|Credit card refin...|                 0|                  0|                      0|                 0|                           0|                                  0|                               0|             0|              0|              0|         0|         45.0|            1.0|           B|           2014-06-14|               11000.0|                 2014-02-14|\n",
      "|YidoXHhhM1x4YjgkL...|             Teacher|      11.0|      MORTGAGE|   70000.0|             0.0|           Verified|   997xx|        AK|     2891.0|    20238.0| 213476|    Current|    23500.0|   AK|      23500.0| 36 months|  0.1075|2016-03-16|     false|INDIVIDUAL|  home_improvement|    Home improvement|                 0|                  0|                      0|                 0|                           0|                                  0|                               0|             0|              0|              0|         0|         45.0|            2.0|           B|           2016-03-16|               23500.0|                 2014-06-14|\n",
      "+--------------------+--------------------+----------+--------------+----------+----------------+-------------------+--------+----------+-----------+-----------+-------+-----------+-----------+-----+-------------+----------+--------+----------+----------+----------+------------------+--------------------+------------------+-------------------+-----------------------+------------------+----------------------------+-----------------------------------+--------------------------------+--------------+---------------+---------------+----------+-------------+---------------+------------+---------------------+----------------------+---------------------------+\n",
      "only showing top 5 rows\n",
      "\n"
     ]
    }
   ],
   "source": [
    "window = Window.partitionBy(\"state\", \"grade_letter\").orderBy(\"issue_date\")\n",
    "\n",
    "lag_fn = fn.lag(\"issue_date\", 1).over(window)\n",
    "\n",
    "fintech_df = fintech_df.withColumn(\"prev_issue_date_state_grade\", lag_fn)\n",
    "\n",
    "fintech_df.show(5)"
   ]
  },
  {
   "cell_type": "code",
   "execution_count": 39,
   "metadata": {},
   "outputs": [
    {
     "name": "stdout",
     "output_type": "stream",
     "text": [
      "+-----+------------+----------+---------------------------+\n",
      "|state|grade_letter|issue_date|prev_issue_date_state_grade|\n",
      "+-----+------------+----------+---------------------------+\n",
      "|   AK|           A|2012-09-12|                       NULL|\n",
      "|   AK|           A|2013-12-13|                 2012-09-12|\n",
      "|   AK|           A|2015-06-15|                 2013-12-13|\n",
      "|   AK|           A|2016-01-16|                 2015-06-15|\n",
      "|   AK|           A|2016-03-16|                 2016-01-16|\n",
      "|   AK|           A|2016-04-16|                 2016-03-16|\n",
      "|   AK|           A|2018-04-18|                 2016-04-16|\n",
      "|   AK|           A|2018-05-18|                 2018-04-18|\n",
      "|   AK|           A|2018-06-18|                 2018-05-18|\n",
      "|   AK|           A|2018-07-18|                 2018-06-18|\n",
      "|   AK|           A|2018-10-18|                 2018-07-18|\n",
      "|   AK|           A|2019-05-19|                 2018-10-18|\n",
      "|   AK|           A|2019-06-19|                 2019-05-19|\n",
      "|   AK|           B|2013-06-13|                       NULL|\n",
      "|   AK|           B|2013-10-13|                 2013-06-13|\n",
      "|   AK|           B|2014-02-14|                 2013-10-13|\n",
      "|   AK|           B|2014-06-14|                 2014-02-14|\n",
      "|   AK|           B|2016-03-16|                 2014-06-14|\n",
      "|   AK|           B|2016-11-16|                 2016-03-16|\n",
      "|   AK|           B|2017-03-17|                 2016-11-16|\n",
      "+-----+------------+----------+---------------------------+\n",
      "only showing top 20 rows\n",
      "\n"
     ]
    }
   ],
   "source": [
    "fintech_df.select(\"state\", \"grade_letter\", \"issue_date\", \"prev_issue_date_state_grade\").orderBy(\"state\", \"grade_letter\", \"issue_date\").show(20)"
   ]
  },
  {
   "cell_type": "markdown",
   "metadata": {},
   "source": [
    "- Previous loan amount from the same state and grade combined"
   ]
  },
  {
   "cell_type": "code",
   "execution_count": 40,
   "metadata": {},
   "outputs": [
    {
     "name": "stdout",
     "output_type": "stream",
     "text": [
      "+--------------------+--------------------+----------+--------------+----------+----------------+-------------------+--------+----------+-----------+-----------+-------+-----------+-----------+-----+-------------+----------+--------+----------+----------+----------+------------------+--------------------+------------------+-------------------+-----------------------+------------------+----------------------------+-----------------------------------+--------------------------------+--------------+---------------+---------------+----------+-------------+---------------+------------+---------------------+----------------------+---------------------------+----------------------------+\n",
      "|         customer_id|           emp_title|emp_length|home_ownership|annual_inc|annual_inc_joint|verification_status|zip_code|addr_state|avg_cur_bal|tot_cur_bal|loan_id|loan_status|loan_amount|state|funded_amount|      term|int_rate|issue_date|pymnt_plan|      type|           purpose|         description|home_ownership_own|home_ownership_rent|home_ownership_mortgage|home_ownership_any|verification_status_verified|verification_status_source_verified|verification_status_not_verified|type_joint_app|type_individual|type_direct_pay|type_joint|state_encoded|purpose_encoded|grade_letter|prev_issue_date_grade|prev_loan_amount_grade|prev_issue_date_state_grade|prev_loan_amount_state_grade|\n",
      "+--------------------+--------------------+----------+--------------+----------+----------------+-------------------+--------+----------+-----------+-----------+-------+-----------+-----------+-----+-------------+----------+--------+----------+----------+----------+------------------+--------------------+------------------+-------------------+-----------------------+------------------+----------------------------+-----------------------------------+--------------------------------+--------------+---------------+---------------+----------+-------------+---------------+------------+---------------------+----------------------+---------------------------+----------------------------+\n",
      "|YidceGRlcGhceGU4T...|             Teacher|      11.0|           OWN|   39800.0|             0.0|       Not Verified|   998xx|        AK|     3620.0|    18104.0|  10892|    Current|     3000.0|   AK|       3000.0| 36 months|  0.1308|2019-11-19|     false|Individual|       credit_card|Credit card refin...|                 0|                  0|                      0|                 0|                           0|                                  0|                               0|             0|              0|              0|         0|         45.0|            1.0|           B|           2019-11-19|                3000.0|                 2019-09-19|                        NULL|\n",
      "|YidceDk1XHgxNFx4Y...|               Sales|       4.0|      MORTGAGE|   60000.0|             0.0|    Source Verified|   995xx|        AK|    30694.0|   214857.0|  29439|    Current|     5000.0|   AK|       5000.0| 36 months|  0.1144|2016-11-16|     false|INDIVIDUAL|       credit_card|Credit card refin...|                 0|                  0|                      0|                 0|                           0|                                  0|                               0|             0|              0|              0|         0|         45.0|            1.0|           B|           2016-11-16|                5000.0|                 2016-03-16|                      3000.0|\n",
      "|YidceDA4XHg5Ylx4Y...|  Claims processor 3|       3.0|          RENT|   35000.0|             0.0|       Not Verified|   995xx|        AK|     3474.0|    41686.0|  69807|    Current|     8000.0|   AK|       8000.0| 60 months|   0.124|2019-12-19|     false|Individual|debt_consolidation|  Debt consolidation|                 0|                  0|                      0|                 0|                           0|                                  0|                               0|             0|              0|              0|         0|         45.0|            0.0|           B|           2019-12-19|                8000.0|                 2019-11-19|                      5000.0|\n",
      "|YidceGQ2XHhkZlx4Y...|     Accounting Tech|       2.0|      MORTGAGE|   97000.0|             0.0|       Not Verified|   995xx|        AK|    31884.0|   382606.0| 105028|    Current|    10225.0|   AK|      10225.0| 36 months|  0.1171|2019-09-19|     false|Individual|       credit_card|Credit card refin...|                 0|                  0|                      0|                 0|                           0|                                  0|                               0|             0|              0|              0|         0|         45.0|            1.0|           B|           2019-09-19|               10200.0|                 2019-08-19|                      8000.0|\n",
      "|YidceGQ3N1x4ZWZce...|Business support ...|       1.0|          RENT|   43520.0|             0.0|    Source Verified|   995xx|        AK|     8235.0|    32940.0| 110138| Fully Paid|    11000.0|   AK|      11000.0| 36 months|  0.1167|2014-06-14|     false|INDIVIDUAL|       credit_card|Credit card refin...|                 0|                  0|                      0|                 0|                           0|                                  0|                               0|             0|              0|              0|         0|         45.0|            1.0|           B|           2014-06-14|               11000.0|                 2014-02-14|                     10225.0|\n",
      "+--------------------+--------------------+----------+--------------+----------+----------------+-------------------+--------+----------+-----------+-----------+-------+-----------+-----------+-----+-------------+----------+--------+----------+----------+----------+------------------+--------------------+------------------+-------------------+-----------------------+------------------+----------------------------+-----------------------------------+--------------------------------+--------------+---------------+---------------+----------+-------------+---------------+------------+---------------------+----------------------+---------------------------+----------------------------+\n",
      "only showing top 5 rows\n",
      "\n"
     ]
    }
   ],
   "source": [
    "window = Window.partitionBy(\"state\", \"grade_letter\").orderBy(\"loan_amount\")\n",
    "\n",
    "lag_fn = fn.lag(\"loan_amount\", 1).over(window)\n",
    "\n",
    "fintech_df = fintech_df.withColumn(\"prev_loan_amount_state_grade\", lag_fn)\n",
    "\n",
    "fintech_df.show(5)"
   ]
  },
  {
   "cell_type": "code",
   "execution_count": 41,
   "metadata": {},
   "outputs": [
    {
     "name": "stdout",
     "output_type": "stream",
     "text": [
      "+-----+------------+-----------+----------------------------+\n",
      "|state|grade_letter|loan_amount|prev_loan_amount_state_grade|\n",
      "+-----+------------+-----------+----------------------------+\n",
      "|   AK|           A|     3000.0|                        NULL|\n",
      "|   AK|           A|     7000.0|                      3000.0|\n",
      "|   AK|           A|     8000.0|                      7000.0|\n",
      "|   AK|           A|     8000.0|                      8000.0|\n",
      "|   AK|           A|    12750.0|                      8000.0|\n",
      "|   AK|           A|    15000.0|                     12750.0|\n",
      "|   AK|           A|    16000.0|                     15000.0|\n",
      "|   AK|           A|    18000.0|                     16000.0|\n",
      "|   AK|           A|    18000.0|                     18000.0|\n",
      "|   AK|           A|    20000.0|                     18000.0|\n",
      "|   AK|           A|    24000.0|                     20000.0|\n",
      "|   AK|           A|    30000.0|                     24000.0|\n",
      "|   AK|           A|    35000.0|                     30000.0|\n",
      "|   AK|           B|     3000.0|                        NULL|\n",
      "|   AK|           B|     5000.0|                      3000.0|\n",
      "|   AK|           B|     8000.0|                      5000.0|\n",
      "|   AK|           B|    10225.0|                      8000.0|\n",
      "|   AK|           B|    11000.0|                     10225.0|\n",
      "|   AK|           B|    12000.0|                     11000.0|\n",
      "|   AK|           B|    13375.0|                     12000.0|\n",
      "+-----+------------+-----------+----------------------------+\n",
      "only showing top 20 rows\n",
      "\n"
     ]
    }
   ],
   "source": [
    "fintech_df.select(\"state\", \"grade_letter\", \"loan_amount\", \"prev_loan_amount_state_grade\").orderBy(\"state\", \"grade_letter\", \"loan_amount\").show()"
   ]
  },
  {
   "cell_type": "markdown",
   "metadata": {},
   "source": [
    "##### Part 5: Analysis SQL Queries"
   ]
  },
  {
   "cell_type": "markdown",
   "metadata": {},
   "source": [
    "Q1 : Identify the average loan amount and interest rate for loans marked as\n",
    "\"Default\" in the Loan Status, grouped by Emp Length and annual income ranges."
   ]
  },
  {
   "cell_type": "code",
   "execution_count": 42,
   "metadata": {},
   "outputs": [
    {
     "name": "stdout",
     "output_type": "stream",
     "text": [
      "+-------+-----------------+\n",
      "|summary|       annual_inc|\n",
      "+-------+-----------------+\n",
      "|  count|            27030|\n",
      "|   mean|78853.63337077321|\n",
      "| stddev| 67437.6383616835|\n",
      "|    min|            200.0|\n",
      "|    max|        6500031.0|\n",
      "+-------+-----------------+\n",
      "\n"
     ]
    }
   ],
   "source": [
    "fintech_df.describe(\"annual_inc\").show()"
   ]
  },
  {
   "cell_type": "code",
   "execution_count": null,
   "metadata": {},
   "outputs": [],
   "source": []
  },
  {
   "cell_type": "code",
   "execution_count": 43,
   "metadata": {},
   "outputs": [
    {
     "name": "stdout",
     "output_type": "stream",
     "text": [
      "+------------------+\n",
      "|       loan_status|\n",
      "+------------------+\n",
      "|        Fully Paid|\n",
      "|   In Grace Period|\n",
      "|       Charged Off|\n",
      "|Late (31-120 days)|\n",
      "|           Current|\n",
      "| Late (16-30 days)|\n",
      "+------------------+\n",
      "\n"
     ]
    }
   ],
   "source": [
    "fintech_df.select(\"loan_status\").distinct().show()"
   ]
  },
  {
   "cell_type": "code",
   "execution_count": 44,
   "metadata": {},
   "outputs": [
    {
     "name": "stdout",
     "output_type": "stream",
     "text": [
      "+------------------+-----+\n",
      "|       loan_status|count|\n",
      "+------------------+-----+\n",
      "|        Fully Paid| 7637|\n",
      "|   In Grace Period|  169|\n",
      "|       Charged Off| 1824|\n",
      "|Late (31-120 days)|  302|\n",
      "|           Current|17016|\n",
      "| Late (16-30 days)|   82|\n",
      "+------------------+-----+\n",
      "\n"
     ]
    }
   ],
   "source": [
    "fintech_df.groupBy(\"loan_status\").count().show()"
   ]
  },
  {
   "cell_type": "code",
   "execution_count": 45,
   "metadata": {},
   "outputs": [
    {
     "name": "stdout",
     "output_type": "stream",
     "text": [
      "+----------+----------------+------------------+-------------------+\n",
      "|emp_length|annual_inc_range|   avg_loan_amount|       avg_int_rate|\n",
      "+----------+----------------+------------------+-------------------+\n",
      "|       0.5|           0-50k|10934.776264591439|0.13107782101167312|\n",
      "|       0.5|       100k-150k| 21878.16742081448|0.11494389140271495|\n",
      "|       0.5|       150k-200k|23934.736842105263|0.10905894736842105|\n",
      "|       0.5|       200k-250k|           23887.5|0.10276153846153847|\n",
      "|       0.5|       250k-300k|28763.636363636364|0.10363636363636365|\n",
      "|       0.5|       300k-350k|           15750.0|0.10975000000000001|\n",
      "|       0.5|       350k-400k|           31085.0|            0.11686|\n",
      "|       0.5|       400k-450k|            2000.0|                0.0|\n",
      "|       0.5|       450k-500k|           37500.0|0.08785000000000001|\n",
      "|       0.5|         500k-1M|           35000.0|0.09634999999999999|\n",
      "|       0.5|        50k-100k|16510.104302477183|0.12019634941329857|\n",
      "|       1.0|           0-50k|10581.214285714286|           0.130996|\n",
      "|       1.0|       100k-150k| 21484.95575221239|0.11002389380530973|\n",
      "|       1.0|       150k-200k| 24468.45238095238|0.10940000000000001|\n",
      "|       1.0|       200k-250k|26714.285714285714|0.11282857142857142|\n",
      "|       1.0|       250k-300k|19472.222222222223|0.09774444444444444|\n",
      "|       1.0|       400k-450k|30583.333333333332|0.09133333333333334|\n",
      "|       1.0|       450k-500k|           12000.0|             0.1399|\n",
      "|       1.0|        50k-100k|14919.636363636364|0.12196999999999998|\n",
      "|       2.0|           0-50k|10401.625560538117|0.13265852017937219|\n",
      "+----------+----------------+------------------+-------------------+\n",
      "only showing top 20 rows\n",
      "\n"
     ]
    }
   ],
   "source": [
    "fintech_df.createOrReplaceTempView(\"fintech_table\")\n",
    "\n",
    "query = \"\"\"\n",
    "SELECT emp_length,\n",
    "    CASE \n",
    "        WHEN annual_inc < 50000 THEN '0-50k'\n",
    "        WHEN annual_inc BETWEEN 50000 AND 100000 THEN '50k-100k'\n",
    "        WHEN annual_inc BETWEEN 100000 AND 150000 THEN '100k-150k'\n",
    "        WHEN annual_inc BETWEEN 150000 AND 200000 THEN '150k-200k'\n",
    "        WHEN annual_inc BETWEEN 200000 AND 250000 THEN '200k-250k'\n",
    "        WHEN annual_inc BETWEEN 250000 AND 300000 THEN '250k-300k'\n",
    "        WHEN annual_inc BETWEEN 300000 AND 350000 THEN '300k-350k'\n",
    "        WHEN annual_inc BETWEEN 350000 AND 400000 THEN '350k-400k'\n",
    "        WHEN annual_inc BETWEEN 400000 AND 450000 THEN '400k-450k'\n",
    "        WHEN annual_inc BETWEEN 450000 AND 500000 THEN '450k-500k'\n",
    "        WHEN annual_inc BETWEEN 500000 AND 1000000 THEN '500k-1M'\n",
    "        ELSE '1M+'\n",
    "    END AS annual_inc_range,\n",
    "    AVG(loan_amount) AS avg_loan_amount,\n",
    "    AVG(int_rate) AS avg_int_rate\n",
    "FROM fintech_table\n",
    "WHERE loan_status = 'Current'\n",
    "GROUP BY emp_length, annual_inc_range\n",
    "ORDER BY emp_length, annual_inc_range\n",
    "\"\"\"\n",
    "\n",
    "spark.sql(query).show()"
   ]
  },
  {
   "cell_type": "markdown",
   "metadata": {},
   "source": [
    "Q2: Calculate the average difference between Loan Amount and Funded Amount for each\n",
    "loan Grade and sort by the grades with the largest differences."
   ]
  },
  {
   "cell_type": "code",
   "execution_count": 46,
   "metadata": {},
   "outputs": [
    {
     "name": "stdout",
     "output_type": "stream",
     "text": [
      "+------------+--------+\n",
      "|grade_letter|avg_diff|\n",
      "+------------+--------+\n",
      "|           F|     0.0|\n",
      "|           E|     0.0|\n",
      "|           B|     0.0|\n",
      "|           D|     0.0|\n",
      "|           C|     0.0|\n",
      "|           A|     0.0|\n",
      "|           G|     0.0|\n",
      "+------------+--------+\n",
      "\n"
     ]
    }
   ],
   "source": [
    "query = \"\"\"\n",
    "SELECT grade_letter,\n",
    "    AVG(loan_amount - funded_amount) AS avg_diff\n",
    "FROM fintech_table\n",
    "GROUP BY grade_letter\n",
    "ORDER BY avg_diff DESC\n",
    "\"\"\"\n",
    "\n",
    "spark.sql(query).show()"
   ]
  },
  {
   "cell_type": "markdown",
   "metadata": {},
   "source": [
    "Q3: Compare the total Loan Amount for loans with \"Verified\" and \"Not Verified\" Verification Status across each state (Addr State)."
   ]
  },
  {
   "cell_type": "code",
   "execution_count": 47,
   "metadata": {},
   "outputs": [
    {
     "name": "stdout",
     "output_type": "stream",
     "text": [
      "+----------+-------------------+-----------------+\n",
      "|addr_state|verification_status|total_loan_amount|\n",
      "+----------+-------------------+-----------------+\n",
      "|        AK|       Not Verified|         383400.0|\n",
      "|        AK|    Source Verified|         436200.0|\n",
      "|        AK|           Verified|         239325.0|\n",
      "|        AL|       Not Verified|        1264625.0|\n",
      "|        AL|    Source Verified|        1485950.0|\n",
      "|        AL|           Verified|        1601325.0|\n",
      "|        AR|       Not Verified|         761450.0|\n",
      "|        AR|    Source Verified|        1310625.0|\n",
      "|        AR|           Verified|         747750.0|\n",
      "|        AZ|       Not Verified|        2894725.0|\n",
      "|        AZ|    Source Verified|        3661375.0|\n",
      "|        AZ|           Verified|        2435050.0|\n",
      "|        CA|       Not Verified|       1.797605E7|\n",
      "|        CA|    Source Verified|        2.35413E7|\n",
      "|        CA|           Verified|       1.629185E7|\n",
      "|        CO|       Not Verified|        3021250.0|\n",
      "|        CO|    Source Verified|        3808450.0|\n",
      "|        CO|           Verified|        2346600.0|\n",
      "|        CT|       Not Verified|        2186100.0|\n",
      "|        CT|    Source Verified|        3245700.0|\n",
      "+----------+-------------------+-----------------+\n",
      "only showing top 20 rows\n",
      "\n"
     ]
    }
   ],
   "source": [
    "query = \"\"\"\n",
    "SELECT addr_state, verification_status, SUM(loan_amount) AS total_loan_amount\n",
    "FROM fintech_table\n",
    "GROUP BY addr_state, verification_status\n",
    "ORDER BY addr_state, verification_status\n",
    "\"\"\"\n",
    "\n",
    "spark.sql(query).show()"
   ]
  },
  {
   "cell_type": "markdown",
   "metadata": {},
   "source": [
    "Q5: Calculate the average time gap (in days) between consecutive loans for each\n",
    "grade using the new features you added in the feature engineering phase\n"
   ]
  },
  {
   "cell_type": "code",
   "execution_count": 48,
   "metadata": {},
   "outputs": [
    {
     "name": "stdout",
     "output_type": "stream",
     "text": [
      "+------------+-----------------------------+\n",
      "|grade_letter|avg_days_between_consec_loans|\n",
      "+------------+-----------------------------+\n",
      "|           A|           0.4618865297598329|\n",
      "|           B|          0.34273678835843757|\n",
      "|           C|           0.3501781237630294|\n",
      "|           D|           0.6788874841972187|\n",
      "|           E|             1.81158357771261|\n",
      "|           F|            5.738095238095238|\n",
      "|           G|                       17.576|\n",
      "+------------+-----------------------------+\n",
      "\n"
     ]
    }
   ],
   "source": [
    "query = \"\"\"\n",
    "SELECT grade_letter,\n",
    "    AVG(DATEDIFF(issue_date, prev_issue_date_grade)) AS avg_days_between_consec_loans\n",
    "FROM fintech_table\n",
    "WHERE prev_issue_date_grade IS NOT NULL\n",
    "GROUP BY grade_letter\n",
    "ORDER BY grade_letter\n",
    "\"\"\"\n",
    "\n",
    "spark.sql(query).show()"
   ]
  },
  {
   "cell_type": "markdown",
   "metadata": {},
   "source": [
    "Q5: Identify the average difference in loan amounts between consecutive loans within the same state and grade combination."
   ]
  },
  {
   "cell_type": "code",
   "execution_count": 49,
   "metadata": {},
   "outputs": [
    {
     "name": "stdout",
     "output_type": "stream",
     "text": [
      "+-----+------------+----------------------------+\n",
      "|state|grade_letter|avg_diff_consec_loan_amounts|\n",
      "+-----+------------+----------------------------+\n",
      "|   AK|           A|          2666.6666666666665|\n",
      "|   AK|           B|          3083.3333333333335|\n",
      "|   AK|           C|          1677.7777777777778|\n",
      "|   AK|           D|          2384.6153846153848|\n",
      "|   AK|           E|                     13900.0|\n",
      "|   AL|           A|           484.8484848484849|\n",
      "|   AL|           B|           571.6417910447761|\n",
      "|   AL|           C|           464.2857142857143|\n",
      "|   AL|           D|                       700.0|\n",
      "|   AL|           E|          1560.5263157894738|\n",
      "|   AL|           F|                      1400.0|\n",
      "|   AL|           G|                      3650.0|\n",
      "|   AR|           A|           941.1764705882352|\n",
      "|   AR|           B|            675.438596491228|\n",
      "|   AR|           C|            587.719298245614|\n",
      "|   AR|           D|                   1976.5625|\n",
      "|   AR|           E|           3677.777777777778|\n",
      "|   AR|           F|           8666.666666666666|\n",
      "|   AZ|           A|           297.6744186046512|\n",
      "|   AZ|           B|          188.40579710144928|\n",
      "+-----+------------+----------------------------+\n",
      "only showing top 20 rows\n",
      "\n"
     ]
    }
   ],
   "source": [
    "query = \"\"\"\n",
    "SELECT state, grade_letter,\n",
    "    AVG(loan_amount - prev_loan_amount_state_grade) AS avg_diff_consec_loan_amounts\n",
    "FROM fintech_table\n",
    "WHERE prev_loan_amount_state_grade IS NOT NULL\n",
    "GROUP BY state, grade_letter\n",
    "ORDER BY state, grade_letter\n",
    "\"\"\"\n",
    "\n",
    "spark.sql(query).show()\n"
   ]
  },
  {
   "cell_type": "markdown",
   "metadata": {},
   "source": [
    "##### Part 6: Save the data"
   ]
  },
  {
   "cell_type": "markdown",
   "metadata": {},
   "source": [
    "- save the data to a new parquet file"
   ]
  },
  {
   "cell_type": "code",
   "execution_count": 50,
   "metadata": {},
   "outputs": [
    {
     "name": "stderr",
     "output_type": "stream",
     "text": [
      "                                                                                \r"
     ]
    }
   ],
   "source": [
    "fintech_df.write.parquet(CLEANED_DATA_PATH , mode=\"overwrite\")\n",
    "lookup_table.write.parquet(LOOKUP_PATH, mode=\"overwrite\")"
   ]
  },
  {
   "cell_type": "code",
   "execution_count": 51,
   "metadata": {},
   "outputs": [],
   "source": [
    "sc.stop()\n",
    "spark.stop()"
   ]
  }
 ],
 "metadata": {
  "kernelspec": {
   "display_name": "base",
   "language": "python",
   "name": "python3"
  },
  "language_info": {
   "codemirror_mode": {
    "name": "ipython",
    "version": 3
   },
   "file_extension": ".py",
   "mimetype": "text/x-python",
   "name": "python",
   "nbconvert_exporter": "python",
   "pygments_lexer": "ipython3",
   "version": "3.12.4"
  }
 },
 "nbformat": 4,
 "nbformat_minor": 2
}
